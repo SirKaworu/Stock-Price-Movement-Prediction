{
  "cells": [
    {
      "cell_type": "markdown",
      "id": "hS1KgJacoQTK",
      "metadata": {
        "id": "hS1KgJacoQTK"
      },
      "source": [
        "#Preparation"
      ]
    },
    {
      "cell_type": "code",
      "execution_count": 83,
      "id": "MlrvO46ZoP3y",
      "metadata": {
        "colab": {
          "base_uri": "https://localhost:8080/"
        },
        "id": "MlrvO46ZoP3y",
        "outputId": "444c24e0-1666-4856-ba3b-965898272749"
      },
      "outputs": [
        {
          "name": "stdout",
          "output_type": "stream",
          "text": [
            "Requirement already satisfied: pandas-ta in /usr/local/lib/python3.11/dist-packages (0.3.14b0)\n",
            "Requirement already satisfied: pandas in /usr/local/lib/python3.11/dist-packages (from pandas-ta) (2.2.2)\n",
            "Requirement already satisfied: numpy>=1.23.2 in /usr/local/lib/python3.11/dist-packages (from pandas->pandas-ta) (1.26.4)\n",
            "Requirement already satisfied: python-dateutil>=2.8.2 in /usr/local/lib/python3.11/dist-packages (from pandas->pandas-ta) (2.8.2)\n",
            "Requirement already satisfied: pytz>=2020.1 in /usr/local/lib/python3.11/dist-packages (from pandas->pandas-ta) (2025.1)\n",
            "Requirement already satisfied: tzdata>=2022.7 in /usr/local/lib/python3.11/dist-packages (from pandas->pandas-ta) (2025.1)\n",
            "Requirement already satisfied: six>=1.5 in /usr/local/lib/python3.11/dist-packages (from python-dateutil>=2.8.2->pandas->pandas-ta) (1.17.0)\n"
          ]
        }
      ],
      "source": [
        "#some may not have pandas technical analysis library preinstalled\n",
        "!pip install pandas-ta"
      ]
    },
    {
      "cell_type": "code",
      "execution_count": 84,
      "id": "b29811c3",
      "metadata": {
        "id": "b29811c3"
      },
      "outputs": [],
      "source": [
        "import numpy as np\n",
        "import matplotlib.pyplot as plt\n",
        "import pandas as pd\n",
        "import pandas_ta as ta"
      ]
    },
    {
      "cell_type": "markdown",
      "id": "AECWKX1EovlS",
      "metadata": {
        "id": "AECWKX1EovlS"
      },
      "source": [
        "##Fetch Data"
      ]
    },
    {
      "cell_type": "code",
      "execution_count": 85,
      "id": "MCjJ-n4ZoszT",
      "metadata": {
        "colab": {
          "base_uri": "https://localhost:8080/"
        },
        "id": "MCjJ-n4ZoszT",
        "outputId": "8cf53417-aa81-4d4a-fef9-2a0ac08aa2f2"
      },
      "outputs": [
        {
          "name": "stdout",
          "output_type": "stream",
          "text": [
            "        Price           Adj Close               Close                High  \\\n",
            "0      Ticker                NVDA                NVDA                NVDA   \n",
            "1        Date                 NaN                 NaN                 NaN   \n",
            "2  2018-01-02   4.929879665374756   4.983749866485596   4.987500190734863   \n",
            "3  2018-01-03   5.254334926605225  5.3117499351501465    5.34250020980835   \n",
            "4  2018-01-04  5.2820329666137695   5.339749813079834   5.451250076293945   \n",
            "5  2018-01-05   5.326793670654297   5.385000228881836   5.422749996185303   \n",
            "6  2018-01-08   5.490012168884277   5.550000190734863               5.625   \n",
            "7  2018-01-09   5.488528251647949   5.548500061035156  5.5954999923706055   \n",
            "8  2018-01-10   5.531556606292725  5.5920000076293945  5.5954999923706055   \n",
            "9  2018-01-11    5.54144811630249  5.6020002365112305   5.656750202178955   \n",
            "\n",
            "                  Low               Open     Volume  \n",
            "0                NVDA               NVDA       NVDA  \n",
            "1                 NaN                NaN        NaN  \n",
            "2   4.862500190734863  4.894499778747559  355616000  \n",
            "3             5.09375  5.102499961853027  914704000  \n",
            "4   5.317249774932861  5.394000053405762  583268000  \n",
            "5  5.2769999504089355  5.354750156402588  580124000  \n",
            "6  5.4644999504089355  5.510000228881836  881216000  \n",
            "7   5.466000080108643  5.555500030517578  497000000  \n",
            "8   5.400000095367432  5.454999923706055  582664000  \n",
            "9   5.580249786376953              5.625  406032000  \n"
          ]
        },
        {
          "name": "stderr",
          "output_type": "stream",
          "text": [
            "<ipython-input-85-49569a68c45a>:1: UserWarning: Could not infer format, so each element will be parsed individually, falling back to `dateutil`. To ensure parsing is consistent and as-expected, please specify a format.\n",
            "  data = pd.read_csv(\"NVIDIA_STOCK.csv\", parse_dates=[\"Price\"]) #change parse_dates using unique coloumn\n"
          ]
        }
      ],
      "source": [
        "data = pd.read_csv(\"NVIDIA_STOCK.csv\", parse_dates=[\"Price\"]) #change parse_dates using unique coloumn\n",
        "\n",
        "print(data.head(10))"
      ]
    },
    {
      "cell_type": "markdown",
      "id": "U8PIuFYAo-gK",
      "metadata": {
        "id": "U8PIuFYAo-gK"
      },
      "source": [
        "#Data Preprocessing"
      ]
    },
    {
      "cell_type": "code",
      "execution_count": 86,
      "id": "68e700e1",
      "metadata": {
        "id": "68e700e1"
      },
      "outputs": [],
      "source": [
        "# Convert 'Adj Close' and 'Open' columns to numeric type\n",
        "data['Adj Close'] = pd.to_numeric(data['Adj Close'], errors='coerce')\n",
        "data['Close'] = pd.to_numeric(data['Close'], errors='coerce')\n",
        "data['High'] = pd.to_numeric(data['High'], errors='coerce')\n",
        "data['Low'] = pd.to_numeric(data['Low'], errors='coerce')\n",
        "data['Open'] = pd.to_numeric(data['Open'], errors='coerce')\n",
        "data['Volume'] = pd.to_numeric(data['Volume'], errors='coerce')\n",
        "\n",
        "#Indicators\n",
        "data['RSI']=ta.rsi(data.Close, length=15)\n",
        "data['EMAF']=ta.ema(data.Close, length=20)\n",
        "data['EMAM']=ta.ema(data.Close, length=100)\n",
        "data['EMAS']=ta.ema(data.Close, length=150)\n",
        "\n",
        "data['Target'] = data['Adj Close']-data.Open\n",
        "data['Target'] = data['Target'].shift(-1)\n",
        "\n",
        "#Binary Classification\n",
        "data['TargetClass'] = [1 if data.Target.iloc[i]>0 else 0 for i in range(len(data))]\n",
        "\n",
        "#Creates a target variable representing the adjusted closing price of the next day\n",
        "#by shifting the Adj Close column by one period using shift(-1).\n",
        "data['TargetNextClose'] = data['Adj Close'].shift(-1)\n",
        "\n",
        "#Data Cleaning\n",
        "data.dropna(inplace=True)\n",
        "data.reset_index(inplace = True)\n",
        "data.drop(['Volume', 'Close', 'Price', 'index'], axis=1, inplace=True)"
      ]
    },
    {
      "cell_type": "code",
      "execution_count": 87,
      "id": "a2b0e972",
      "metadata": {
        "colab": {
          "base_uri": "https://localhost:8080/",
          "height": 400
        },
        "id": "a2b0e972",
        "outputId": "33d39506-29c5-4f53-dcf0-958e55c4257c"
      },
      "outputs": [
        {
          "data": {
            "application/vnd.google.colaboratory.intrinsic+json": {
              "summary": "{\n  \"name\": \"#print(type(data_set))\",\n  \"rows\": 10,\n  \"fields\": [\n    {\n      \"column\": \"Adj Close\",\n      \"properties\": {\n        \"dtype\": \"number\",\n        \"std\": 0.08063786607815815,\n        \"min\": 6.205463886260986,\n        \"max\": 6.473124504089356,\n        \"num_unique_values\": 10,\n        \"samples\": [\n          6.473124504089356,\n          6.242109298706055,\n          6.350065231323242\n        ],\n        \"semantic_type\": \"\",\n        \"description\": \"\"\n      }\n    },\n    {\n      \"column\": \"High\",\n      \"properties\": {\n        \"dtype\": \"number\",\n        \"std\": 0.10470411057098739,\n        \"min\": 6.269499778747559,\n        \"max\": 6.591000080108643,\n        \"num_unique_values\": 10,\n        \"samples\": [\n          6.550000190734863,\n          6.326499938964844,\n          6.481249809265137\n        ],\n        \"semantic_type\": \"\",\n        \"description\": \"\"\n      }\n    },\n    {\n      \"column\": \"Low\",\n      \"properties\": {\n        \"dtype\": \"number\",\n        \"std\": 0.11882271459826245,\n        \"min\": 6.030250072479248,\n        \"max\": 6.42549991607666,\n        \"num_unique_values\": 10,\n        \"samples\": [\n          6.42549991607666,\n          6.273250102996826,\n          6.403749942779541\n        ],\n        \"semantic_type\": \"\",\n        \"description\": \"\"\n      }\n    },\n    {\n      \"column\": \"Open\",\n      \"properties\": {\n        \"dtype\": \"number\",\n        \"std\": 0.134548031959532,\n        \"min\": 6.089749813079834,\n        \"max\": 6.5567498207092285,\n        \"num_unique_values\": 10,\n        \"samples\": [\n          6.509500026702881,\n          6.290249824523926,\n          6.478499889373779\n        ],\n        \"semantic_type\": \"\",\n        \"description\": \"\"\n      }\n    },\n    {\n      \"column\": \"RSI\",\n      \"properties\": {\n        \"dtype\": \"number\",\n        \"std\": 3.0144696204496415,\n        \"min\": 51.36704609511383,\n        \"max\": 61.35795727615553,\n        \"num_unique_values\": 10,\n        \"samples\": [\n          61.35795727615553,\n          52.93561714265222,\n          56.58841393571023\n        ],\n        \"semantic_type\": \"\",\n        \"description\": \"\"\n      }\n    },\n    {\n      \"column\": \"EMAF\",\n      \"properties\": {\n        \"dtype\": \"number\",\n        \"std\": 0.03979831694422374,\n        \"min\": 6.231595169197372,\n        \"max\": 6.347684409904742,\n        \"num_unique_values\": 10,\n        \"samples\": [\n          6.334072217630375,\n          6.238347988427924,\n          6.296363604861742\n        ],\n        \"semantic_type\": \"\",\n        \"description\": \"\"\n      }\n    },\n    {\n      \"column\": \"EMAM\",\n      \"properties\": {\n        \"dtype\": \"number\",\n        \"std\": 0.016204797699984497,\n        \"min\": 6.127848221553685,\n        \"max\": 6.175551956885425,\n        \"num_unique_values\": 10,\n        \"samples\": [\n          6.16946209265056,\n          6.131306668079714,\n          6.152900871074283\n        ],\n        \"semantic_type\": \"\",\n        \"description\": \"\"\n      }\n    },\n    {\n      \"column\": \"EMAS\",\n      \"properties\": {\n        \"dtype\": \"number\",\n        \"std\": 0.01540006772655197,\n        \"min\": 6.014307440938176,\n        \"max\": 6.059799305606508,\n        \"num_unique_values\": 10,\n        \"samples\": [\n          6.054199293111143,\n          6.018124557894203,\n          6.038580526451275\n        ],\n        \"semantic_type\": \"\",\n        \"description\": \"\"\n      }\n    },\n    {\n      \"column\": \"Target\",\n      \"properties\": {\n        \"dtype\": \"number\",\n        \"std\": 0.059642845039908465,\n        \"min\": -0.17316961288452148,\n        \"max\": 0.00014591217041015625,\n        \"num_unique_values\": 10,\n        \"samples\": [\n          -0.14181184768676758,\n          0.00014591217041015625,\n          -0.020035266876220703\n        ],\n        \"semantic_type\": \"\",\n        \"description\": \"\"\n      }\n    },\n    {\n      \"column\": \"TargetClass\",\n      \"properties\": {\n        \"dtype\": \"number\",\n        \"std\": 0,\n        \"min\": 0,\n        \"max\": 1,\n        \"num_unique_values\": 2,\n        \"samples\": [\n          1,\n          0\n        ],\n        \"semantic_type\": \"\",\n        \"description\": \"\"\n      }\n    },\n    {\n      \"column\": \"TargetNextClose\",\n      \"properties\": {\n        \"dtype\": \"number\",\n        \"std\": 0.06599387088560117,\n        \"min\": 6.242109298706055,\n        \"max\": 6.473124504089356,\n        \"num_unique_values\": 10,\n        \"samples\": [\n          6.414937973022461,\n          6.289896011352539\n        ],\n        \"semantic_type\": \"\",\n        \"description\": \"\"\n      }\n    }\n  ]\n}",
              "type": "dataframe"
            },
            "text/html": [
              "\n",
              "  <div id=\"df-c014d2ff-d785-4437-afa7-3673dd17edef\" class=\"colab-df-container\">\n",
              "    <div>\n",
              "<style scoped>\n",
              "    .dataframe tbody tr th:only-of-type {\n",
              "        vertical-align: middle;\n",
              "    }\n",
              "\n",
              "    .dataframe tbody tr th {\n",
              "        vertical-align: top;\n",
              "    }\n",
              "\n",
              "    .dataframe thead th {\n",
              "        text-align: right;\n",
              "    }\n",
              "</style>\n",
              "<table border=\"1\" class=\"dataframe\">\n",
              "  <thead>\n",
              "    <tr style=\"text-align: right;\">\n",
              "      <th></th>\n",
              "      <th>Adj Close</th>\n",
              "      <th>High</th>\n",
              "      <th>Low</th>\n",
              "      <th>Open</th>\n",
              "      <th>RSI</th>\n",
              "      <th>EMAF</th>\n",
              "      <th>EMAM</th>\n",
              "      <th>EMAS</th>\n",
              "      <th>Target</th>\n",
              "      <th>TargetClass</th>\n",
              "      <th>TargetNextClose</th>\n",
              "    </tr>\n",
              "  </thead>\n",
              "  <tbody>\n",
              "    <tr>\n",
              "      <th>1</th>\n",
              "      <td>6.205464</td>\n",
              "      <td>6.26950</td>\n",
              "      <td>6.03025</td>\n",
              "      <td>6.08975</td>\n",
              "      <td>51.367046</td>\n",
              "      <td>6.231595</td>\n",
              "      <td>6.127848</td>\n",
              "      <td>6.014307</td>\n",
              "      <td>-0.048141</td>\n",
              "      <td>0</td>\n",
              "      <td>6.242109</td>\n",
              "    </tr>\n",
              "    <tr>\n",
              "      <th>2</th>\n",
              "      <td>6.242109</td>\n",
              "      <td>6.32650</td>\n",
              "      <td>6.27325</td>\n",
              "      <td>6.29025</td>\n",
              "      <td>52.935617</td>\n",
              "      <td>6.238348</td>\n",
              "      <td>6.131307</td>\n",
              "      <td>6.018125</td>\n",
              "      <td>0.000146</td>\n",
              "      <td>1</td>\n",
              "      <td>6.289896</td>\n",
              "    </tr>\n",
              "    <tr>\n",
              "      <th>3</th>\n",
              "      <td>6.289896</td>\n",
              "      <td>6.35425</td>\n",
              "      <td>6.24275</td>\n",
              "      <td>6.28975</td>\n",
              "      <td>54.965107</td>\n",
              "      <td>6.249053</td>\n",
              "      <td>6.135652</td>\n",
              "      <td>6.022530</td>\n",
              "      <td>-0.037803</td>\n",
              "      <td>0</td>\n",
              "      <td>6.362197</td>\n",
              "    </tr>\n",
              "    <tr>\n",
              "      <th>4</th>\n",
              "      <td>6.362197</td>\n",
              "      <td>6.44250</td>\n",
              "      <td>6.37300</td>\n",
              "      <td>6.40000</td>\n",
              "      <td>57.907406</td>\n",
              "      <td>6.265691</td>\n",
              "      <td>6.141357</td>\n",
              "      <td>6.027844</td>\n",
              "      <td>-0.026404</td>\n",
              "      <td>0</td>\n",
              "      <td>6.398596</td>\n",
              "    </tr>\n",
              "    <tr>\n",
              "      <th>5</th>\n",
              "      <td>6.398596</td>\n",
              "      <td>6.50600</td>\n",
              "      <td>6.38975</td>\n",
              "      <td>6.42500</td>\n",
              "      <td>59.340248</td>\n",
              "      <td>6.284244</td>\n",
              "      <td>6.147677</td>\n",
              "      <td>6.033575</td>\n",
              "      <td>-0.128435</td>\n",
              "      <td>0</td>\n",
              "      <td>6.350065</td>\n",
              "    </tr>\n",
              "    <tr>\n",
              "      <th>6</th>\n",
              "      <td>6.350065</td>\n",
              "      <td>6.48125</td>\n",
              "      <td>6.40375</td>\n",
              "      <td>6.47850</td>\n",
              "      <td>56.588414</td>\n",
              "      <td>6.296364</td>\n",
              "      <td>6.152901</td>\n",
              "      <td>6.038581</td>\n",
              "      <td>-0.020035</td>\n",
              "      <td>0</td>\n",
              "      <td>6.308715</td>\n",
              "    </tr>\n",
              "    <tr>\n",
              "      <th>7</th>\n",
              "      <td>6.308715</td>\n",
              "      <td>6.40250</td>\n",
              "      <td>6.31750</td>\n",
              "      <td>6.32875</td>\n",
              "      <td>54.290053</td>\n",
              "      <td>6.303353</td>\n",
              "      <td>6.157195</td>\n",
              "      <td>6.042967</td>\n",
              "      <td>-0.036855</td>\n",
              "      <td>0</td>\n",
              "      <td>6.341645</td>\n",
              "    </tr>\n",
              "    <tr>\n",
              "      <th>8</th>\n",
              "      <td>6.341645</td>\n",
              "      <td>6.52500</td>\n",
              "      <td>6.37675</td>\n",
              "      <td>6.37850</td>\n",
              "      <td>55.821148</td>\n",
              "      <td>6.312843</td>\n",
              "      <td>6.162062</td>\n",
              "      <td>6.047736</td>\n",
              "      <td>-0.036376</td>\n",
              "      <td>0</td>\n",
              "      <td>6.473125</td>\n",
              "    </tr>\n",
              "    <tr>\n",
              "      <th>9</th>\n",
              "      <td>6.473125</td>\n",
              "      <td>6.55000</td>\n",
              "      <td>6.42550</td>\n",
              "      <td>6.50950</td>\n",
              "      <td>61.357957</td>\n",
              "      <td>6.334072</td>\n",
              "      <td>6.169462</td>\n",
              "      <td>6.054199</td>\n",
              "      <td>-0.141812</td>\n",
              "      <td>0</td>\n",
              "      <td>6.414938</td>\n",
              "    </tr>\n",
              "    <tr>\n",
              "      <th>10</th>\n",
              "      <td>6.414938</td>\n",
              "      <td>6.59100</td>\n",
              "      <td>6.39750</td>\n",
              "      <td>6.55675</td>\n",
              "      <td>57.916207</td>\n",
              "      <td>6.347684</td>\n",
              "      <td>6.175552</td>\n",
              "      <td>6.059799</td>\n",
              "      <td>-0.173170</td>\n",
              "      <td>0</td>\n",
              "      <td>6.374331</td>\n",
              "    </tr>\n",
              "  </tbody>\n",
              "</table>\n",
              "</div>\n",
              "    <div class=\"colab-df-buttons\">\n",
              "\n",
              "  <div class=\"colab-df-container\">\n",
              "    <button class=\"colab-df-convert\" onclick=\"convertToInteractive('df-c014d2ff-d785-4437-afa7-3673dd17edef')\"\n",
              "            title=\"Convert this dataframe to an interactive table.\"\n",
              "            style=\"display:none;\">\n",
              "\n",
              "  <svg xmlns=\"http://www.w3.org/2000/svg\" height=\"24px\" viewBox=\"0 -960 960 960\">\n",
              "    <path d=\"M120-120v-720h720v720H120Zm60-500h600v-160H180v160Zm220 220h160v-160H400v160Zm0 220h160v-160H400v160ZM180-400h160v-160H180v160Zm440 0h160v-160H620v160ZM180-180h160v-160H180v160Zm440 0h160v-160H620v160Z\"/>\n",
              "  </svg>\n",
              "    </button>\n",
              "\n",
              "  <style>\n",
              "    .colab-df-container {\n",
              "      display:flex;\n",
              "      gap: 12px;\n",
              "    }\n",
              "\n",
              "    .colab-df-convert {\n",
              "      background-color: #E8F0FE;\n",
              "      border: none;\n",
              "      border-radius: 50%;\n",
              "      cursor: pointer;\n",
              "      display: none;\n",
              "      fill: #1967D2;\n",
              "      height: 32px;\n",
              "      padding: 0 0 0 0;\n",
              "      width: 32px;\n",
              "    }\n",
              "\n",
              "    .colab-df-convert:hover {\n",
              "      background-color: #E2EBFA;\n",
              "      box-shadow: 0px 1px 2px rgba(60, 64, 67, 0.3), 0px 1px 3px 1px rgba(60, 64, 67, 0.15);\n",
              "      fill: #174EA6;\n",
              "    }\n",
              "\n",
              "    .colab-df-buttons div {\n",
              "      margin-bottom: 4px;\n",
              "    }\n",
              "\n",
              "    [theme=dark] .colab-df-convert {\n",
              "      background-color: #3B4455;\n",
              "      fill: #D2E3FC;\n",
              "    }\n",
              "\n",
              "    [theme=dark] .colab-df-convert:hover {\n",
              "      background-color: #434B5C;\n",
              "      box-shadow: 0px 1px 3px 1px rgba(0, 0, 0, 0.15);\n",
              "      filter: drop-shadow(0px 1px 2px rgba(0, 0, 0, 0.3));\n",
              "      fill: #FFFFFF;\n",
              "    }\n",
              "  </style>\n",
              "\n",
              "    <script>\n",
              "      const buttonEl =\n",
              "        document.querySelector('#df-c014d2ff-d785-4437-afa7-3673dd17edef button.colab-df-convert');\n",
              "      buttonEl.style.display =\n",
              "        google.colab.kernel.accessAllowed ? 'block' : 'none';\n",
              "\n",
              "      async function convertToInteractive(key) {\n",
              "        const element = document.querySelector('#df-c014d2ff-d785-4437-afa7-3673dd17edef');\n",
              "        const dataTable =\n",
              "          await google.colab.kernel.invokeFunction('convertToInteractive',\n",
              "                                                    [key], {});\n",
              "        if (!dataTable) return;\n",
              "\n",
              "        const docLinkHtml = 'Like what you see? Visit the ' +\n",
              "          '<a target=\"_blank\" href=https://colab.research.google.com/notebooks/data_table.ipynb>data table notebook</a>'\n",
              "          + ' to learn more about interactive tables.';\n",
              "        element.innerHTML = '';\n",
              "        dataTable['output_type'] = 'display_data';\n",
              "        await google.colab.output.renderOutput(dataTable, element);\n",
              "        const docLink = document.createElement('div');\n",
              "        docLink.innerHTML = docLinkHtml;\n",
              "        element.appendChild(docLink);\n",
              "      }\n",
              "    </script>\n",
              "  </div>\n",
              "\n",
              "\n",
              "<div id=\"df-0df25755-ca18-4597-9726-a246f7c882fe\">\n",
              "  <button class=\"colab-df-quickchart\" onclick=\"quickchart('df-0df25755-ca18-4597-9726-a246f7c882fe')\"\n",
              "            title=\"Suggest charts\"\n",
              "            style=\"display:none;\">\n",
              "\n",
              "<svg xmlns=\"http://www.w3.org/2000/svg\" height=\"24px\"viewBox=\"0 0 24 24\"\n",
              "     width=\"24px\">\n",
              "    <g>\n",
              "        <path d=\"M19 3H5c-1.1 0-2 .9-2 2v14c0 1.1.9 2 2 2h14c1.1 0 2-.9 2-2V5c0-1.1-.9-2-2-2zM9 17H7v-7h2v7zm4 0h-2V7h2v10zm4 0h-2v-4h2v4z\"/>\n",
              "    </g>\n",
              "</svg>\n",
              "  </button>\n",
              "\n",
              "<style>\n",
              "  .colab-df-quickchart {\n",
              "      --bg-color: #E8F0FE;\n",
              "      --fill-color: #1967D2;\n",
              "      --hover-bg-color: #E2EBFA;\n",
              "      --hover-fill-color: #174EA6;\n",
              "      --disabled-fill-color: #AAA;\n",
              "      --disabled-bg-color: #DDD;\n",
              "  }\n",
              "\n",
              "  [theme=dark] .colab-df-quickchart {\n",
              "      --bg-color: #3B4455;\n",
              "      --fill-color: #D2E3FC;\n",
              "      --hover-bg-color: #434B5C;\n",
              "      --hover-fill-color: #FFFFFF;\n",
              "      --disabled-bg-color: #3B4455;\n",
              "      --disabled-fill-color: #666;\n",
              "  }\n",
              "\n",
              "  .colab-df-quickchart {\n",
              "    background-color: var(--bg-color);\n",
              "    border: none;\n",
              "    border-radius: 50%;\n",
              "    cursor: pointer;\n",
              "    display: none;\n",
              "    fill: var(--fill-color);\n",
              "    height: 32px;\n",
              "    padding: 0;\n",
              "    width: 32px;\n",
              "  }\n",
              "\n",
              "  .colab-df-quickchart:hover {\n",
              "    background-color: var(--hover-bg-color);\n",
              "    box-shadow: 0 1px 2px rgba(60, 64, 67, 0.3), 0 1px 3px 1px rgba(60, 64, 67, 0.15);\n",
              "    fill: var(--button-hover-fill-color);\n",
              "  }\n",
              "\n",
              "  .colab-df-quickchart-complete:disabled,\n",
              "  .colab-df-quickchart-complete:disabled:hover {\n",
              "    background-color: var(--disabled-bg-color);\n",
              "    fill: var(--disabled-fill-color);\n",
              "    box-shadow: none;\n",
              "  }\n",
              "\n",
              "  .colab-df-spinner {\n",
              "    border: 2px solid var(--fill-color);\n",
              "    border-color: transparent;\n",
              "    border-bottom-color: var(--fill-color);\n",
              "    animation:\n",
              "      spin 1s steps(1) infinite;\n",
              "  }\n",
              "\n",
              "  @keyframes spin {\n",
              "    0% {\n",
              "      border-color: transparent;\n",
              "      border-bottom-color: var(--fill-color);\n",
              "      border-left-color: var(--fill-color);\n",
              "    }\n",
              "    20% {\n",
              "      border-color: transparent;\n",
              "      border-left-color: var(--fill-color);\n",
              "      border-top-color: var(--fill-color);\n",
              "    }\n",
              "    30% {\n",
              "      border-color: transparent;\n",
              "      border-left-color: var(--fill-color);\n",
              "      border-top-color: var(--fill-color);\n",
              "      border-right-color: var(--fill-color);\n",
              "    }\n",
              "    40% {\n",
              "      border-color: transparent;\n",
              "      border-right-color: var(--fill-color);\n",
              "      border-top-color: var(--fill-color);\n",
              "    }\n",
              "    60% {\n",
              "      border-color: transparent;\n",
              "      border-right-color: var(--fill-color);\n",
              "    }\n",
              "    80% {\n",
              "      border-color: transparent;\n",
              "      border-right-color: var(--fill-color);\n",
              "      border-bottom-color: var(--fill-color);\n",
              "    }\n",
              "    90% {\n",
              "      border-color: transparent;\n",
              "      border-bottom-color: var(--fill-color);\n",
              "    }\n",
              "  }\n",
              "</style>\n",
              "\n",
              "  <script>\n",
              "    async function quickchart(key) {\n",
              "      const quickchartButtonEl =\n",
              "        document.querySelector('#' + key + ' button');\n",
              "      quickchartButtonEl.disabled = true;  // To prevent multiple clicks.\n",
              "      quickchartButtonEl.classList.add('colab-df-spinner');\n",
              "      try {\n",
              "        const charts = await google.colab.kernel.invokeFunction(\n",
              "            'suggestCharts', [key], {});\n",
              "      } catch (error) {\n",
              "        console.error('Error during call to suggestCharts:', error);\n",
              "      }\n",
              "      quickchartButtonEl.classList.remove('colab-df-spinner');\n",
              "      quickchartButtonEl.classList.add('colab-df-quickchart-complete');\n",
              "    }\n",
              "    (() => {\n",
              "      let quickchartButtonEl =\n",
              "        document.querySelector('#df-0df25755-ca18-4597-9726-a246f7c882fe button');\n",
              "      quickchartButtonEl.style.display =\n",
              "        google.colab.kernel.accessAllowed ? 'block' : 'none';\n",
              "    })();\n",
              "  </script>\n",
              "</div>\n",
              "\n",
              "    </div>\n",
              "  </div>\n"
            ],
            "text/plain": [
              "    Adj Close     High      Low     Open        RSI      EMAF      EMAM  \\\n",
              "1    6.205464  6.26950  6.03025  6.08975  51.367046  6.231595  6.127848   \n",
              "2    6.242109  6.32650  6.27325  6.29025  52.935617  6.238348  6.131307   \n",
              "3    6.289896  6.35425  6.24275  6.28975  54.965107  6.249053  6.135652   \n",
              "4    6.362197  6.44250  6.37300  6.40000  57.907406  6.265691  6.141357   \n",
              "5    6.398596  6.50600  6.38975  6.42500  59.340248  6.284244  6.147677   \n",
              "6    6.350065  6.48125  6.40375  6.47850  56.588414  6.296364  6.152901   \n",
              "7    6.308715  6.40250  6.31750  6.32875  54.290053  6.303353  6.157195   \n",
              "8    6.341645  6.52500  6.37675  6.37850  55.821148  6.312843  6.162062   \n",
              "9    6.473125  6.55000  6.42550  6.50950  61.357957  6.334072  6.169462   \n",
              "10   6.414938  6.59100  6.39750  6.55675  57.916207  6.347684  6.175552   \n",
              "\n",
              "        EMAS    Target  TargetClass  TargetNextClose  \n",
              "1   6.014307 -0.048141            0         6.242109  \n",
              "2   6.018125  0.000146            1         6.289896  \n",
              "3   6.022530 -0.037803            0         6.362197  \n",
              "4   6.027844 -0.026404            0         6.398596  \n",
              "5   6.033575 -0.128435            0         6.350065  \n",
              "6   6.038581 -0.020035            0         6.308715  \n",
              "7   6.042967 -0.036855            0         6.341645  \n",
              "8   6.047736 -0.036376            0         6.473125  \n",
              "9   6.054199 -0.141812            0         6.414938  \n",
              "10  6.059799 -0.173170            0         6.374331  "
            ]
          },
          "execution_count": 87,
          "metadata": {},
          "output_type": "execute_result"
        }
      ],
      "source": [
        "data_set = data.iloc[:, 0:11]#.values\n",
        "pd.set_option('display.max_columns', None)\n",
        "\n",
        "data_set.index = np.arange(1, len(data_set) + 1)\n",
        "data_set.head(10)\n",
        "#print(data_set.shape)\n",
        "#print(data.shape)\n",
        "#print(type(data_set))"
      ]
    },
    {
      "cell_type": "code",
      "execution_count": 88,
      "id": "eb3a2c0c",
      "metadata": {
        "id": "eb3a2c0c"
      },
      "outputs": [],
      "source": [
        "#Target column Categories\n",
        "#y =[1 if data.Open[i]>data.Close[i] else 0 for i in range(0, len(data))]\n",
        "#yi = [data.Open[i]-data.Close[i] for i in range(0, len(data))]\n",
        "#print(yi)\n",
        "#print(len(yi))"
      ]
    },
    {
      "cell_type": "markdown",
      "id": "ie6lT0QXv_mx",
      "metadata": {
        "id": "ie6lT0QXv_mx"
      },
      "source": [
        "#Data Scaling"
      ]
    },
    {
      "cell_type": "code",
      "execution_count": 89,
      "id": "b9d38e4c",
      "metadata": {
        "colab": {
          "base_uri": "https://localhost:8080/"
        },
        "id": "b9d38e4c",
        "outputId": "a33990d8-2c34-400d-c321-64b9204f44c0"
      },
      "outputs": [
        {
          "name": "stdout",
          "output_type": "stream",
          "text": [
            "[[0.02306539 0.02196196 0.02257199 ... 0.51634932 0.         0.02334216]\n",
            " [0.02334216 0.02237647 0.02445122 ... 0.51912207 1.         0.02370306]\n",
            " [0.02370306 0.02257828 0.02421535 ... 0.51694292 0.         0.02424911]\n",
            " ...\n",
            " [0.90893598 0.88495429 0.91640149 ... 0.36013606 0.         0.91293848]\n",
            " [0.91293848 0.90480729 0.91787086 ... 0.37105704 0.         0.89300144]\n",
            " [0.89300144 0.87833659 0.89822791 ... 0.69836663 1.         0.89330348]]\n"
          ]
        }
      ],
      "source": [
        "from sklearn.preprocessing import MinMaxScaler\n",
        "sc = MinMaxScaler(feature_range=(0,1))\n",
        "data_set_scaled = sc.fit_transform(data_set)\n",
        "print(data_set_scaled)"
      ]
    },
    {
      "cell_type": "markdown",
      "id": "J9GTEZ3jxDSS",
      "metadata": {
        "id": "J9GTEZ3jxDSS"
      },
      "source": [
        "#Data in Array"
      ]
    },
    {
      "cell_type": "code",
      "execution_count": 90,
      "id": "99ca74fd",
      "metadata": {
        "colab": {
          "base_uri": "https://localhost:8080/"
        },
        "id": "99ca74fd",
        "outputId": "a1ba96b7-b424-4c4e-c3ad-23290fd56caa"
      },
      "outputs": [
        {
          "name": "stdout",
          "output_type": "stream",
          "text": [
            "1549\n",
            "[[[0.02306539 0.02196196 0.02257199 ... 0.02201173 0.01911294 0.01828124]\n",
            "  [0.02334216 0.02237647 0.02445122 ... 0.02206687 0.01914518 0.01831948]\n",
            "  [0.02370306 0.02257828 0.02421535 ... 0.02215427 0.01918568 0.01836361]\n",
            "  ...\n",
            "  [0.01568921 0.01542973 0.0164529  ... 0.01664315 0.01955792 0.01969122]\n",
            "  [0.01619998 0.01589515 0.01676611 ... 0.01646487 0.01940458 0.0195837 ]\n",
            "  [0.01474057 0.01480796 0.01534508 ... 0.01615195 0.01921828 0.01945173]]\n",
            "\n",
            " [[0.02334216 0.02237647 0.02445122 ... 0.02206687 0.01914518 0.01831948]\n",
            "  [0.02370306 0.02257828 0.02421535 ... 0.02215427 0.01918568 0.01836361]\n",
            "  [0.02424911 0.02322005 0.02522263 ... 0.0222901  0.01923885 0.01841685]\n",
            "  ...\n",
            "  [0.01619998 0.01589515 0.01676611 ... 0.01646487 0.01940458 0.0195837 ]\n",
            "  [0.01474057 0.01480796 0.01534508 ... 0.01615195 0.01921828 0.01945173]\n",
            "  [0.0146807  0.01442435 0.01480568 ... 0.0158626  0.01903419 0.01932045]]\n",
            "\n",
            " [[0.02370306 0.02257828 0.02421535 ... 0.02215427 0.01918568 0.01836361]\n",
            "  [0.02424911 0.02322005 0.02522263 ... 0.0222901  0.01923885 0.01841685]\n",
            "  [0.02452401 0.02368183 0.02535216 ... 0.02244158 0.01929776 0.01847426]\n",
            "  ...\n",
            "  [0.01474057 0.01480796 0.01534508 ... 0.01615195 0.01921828 0.01945173]\n",
            "  [0.0146807  0.01442435 0.01480568 ... 0.0158626  0.01903419 0.01932045]\n",
            "  [0.01166271 0.01325172 0.01241218 ... 0.01528727 0.01877932 0.0191374 ]]\n",
            "\n",
            " ...\n",
            "\n",
            " [[0.97206039 0.94240441 0.96829295 ... 0.90938402 0.79785414 0.76777137]\n",
            "  [0.96526417 0.94887664 0.97803705 ... 0.92187148 0.80547719 0.77442603]\n",
            "  [1.         0.96778433 0.98662118 ... 0.93674643 0.81379829 0.78160292]\n",
            "  ...\n",
            "  [0.85222104 0.83899417 0.86829946 ... 0.9151972  0.99029174 0.98809142]\n",
            "  [0.85418458 0.82714049 0.86420075 ... 0.91568538 0.9913873  0.98987474]\n",
            "  [0.88899889 0.86211968 0.86822211 ... 0.9197116  0.99331203 0.99224614]]\n",
            "\n",
            " [[0.96526417 0.94887664 0.97803705 ... 0.92187148 0.80547719 0.77442603]\n",
            "  [1.         0.96778433 0.98662118 ... 0.93674643 0.81379829 0.78160292]\n",
            "  [0.96375382 1.         0.97757306 ... 0.94647244 0.8210687  0.78804784]\n",
            "  ...\n",
            "  [0.85418458 0.82714049 0.86420075 ... 0.91568538 0.9913873  0.98987474]\n",
            "  [0.88899889 0.86211968 0.86822211 ... 0.9197116  0.99331203 0.99224614]\n",
            "  [0.90893598 0.88495429 0.91640149 ... 0.92540713 0.9956859  0.99493643]]\n",
            "\n",
            " [[1.         0.96778433 0.98662118 ... 0.93674643 0.81379829 0.78160292]\n",
            "  [0.96375382 1.         0.97757306 ... 0.94647244 0.8210687  0.78804784]\n",
            "  [0.93196304 0.92633297 0.93720447 ... 0.95199864 0.8274181  0.79384878]\n",
            "  ...\n",
            "  [0.88899889 0.86211968 0.86822211 ... 0.9197116  0.99331203 0.99224614]\n",
            "  [0.90893598 0.88495429 0.91640149 ... 0.92540713 0.9956859  0.99493643]\n",
            "  [0.91293848 0.90480729 0.91787086 ... 0.93097234 0.99811059 0.99766141]]]\n",
            "(1479, 70, 8)\n",
            "[[0.01166271]\n",
            " [0.01349073]\n",
            " [0.01309406]\n",
            " ...\n",
            " [0.91293848]\n",
            " [0.89300144]\n",
            " [0.89330348]]\n",
            "(1479, 1)\n"
          ]
        }
      ],
      "source": [
        "# multiple feature from data provided to the model\n",
        "X = []\n",
        "backcandles = 70\n",
        "print(data_set_scaled.shape[0])\n",
        "for j in range(8):#data_set_scaled[0].size):#2 columns are target not X\n",
        "    X.append([])\n",
        "    for i in range(backcandles, data_set_scaled.shape[0]):#backcandles+2\n",
        "        X[j].append(data_set_scaled[i-backcandles:i, j])\n",
        "\n",
        "#move axis from 0 to position 2\n",
        "X=np.moveaxis(X, [0], [2])\n",
        "\n",
        "# Choose -1 for last column, classification else -2...\n",
        "X, yi =np.array(X), np.array(data_set_scaled[backcandles:,-1])\n",
        "y=np.reshape(yi,(len(yi),1))\n",
        "\n",
        "print(X)\n",
        "print(X.shape)\n",
        "print(y)\n",
        "print(y.shape)"
      ]
    },
    {
      "cell_type": "code",
      "execution_count": 91,
      "id": "c01b699a",
      "metadata": {
        "id": "c01b699a"
      },
      "outputs": [],
      "source": [
        "#also comprehensions for X\n",
        "#X = np.array([data_set_scaled[i-backcandles:i,:4].copy() for i in range(backcandles,len(data_set_scaled))])\n",
        "#print(X)\n",
        "#print(X.shape)"
      ]
    },
    {
      "cell_type": "markdown",
      "id": "xK1epgYnzEXz",
      "metadata": {
        "id": "xK1epgYnzEXz"
      },
      "source": [
        "#Data Splitting into train test sets"
      ]
    },
    {
      "cell_type": "code",
      "execution_count": 92,
      "id": "a2a87918",
      "metadata": {
        "colab": {
          "base_uri": "https://localhost:8080/"
        },
        "id": "a2a87918",
        "outputId": "92585aed-90d1-4a93-e9e9-27525706c551"
      },
      "outputs": [
        {
          "name": "stdout",
          "output_type": "stream",
          "text": [
            "1183\n",
            "(1183, 70, 8)\n",
            "(296, 70, 8)\n",
            "(1183, 1)\n",
            "(296, 1)\n",
            "[[0.01166271]\n",
            " [0.01349073]\n",
            " [0.01309406]\n",
            " ...\n",
            " [0.32103017]\n",
            " [0.31931651]\n",
            " [0.32269851]]\n"
          ]
        }
      ],
      "source": [
        "splitlimit = int(len(X)*0.8) # 80% for training, 20% for test\n",
        "print(splitlimit)\n",
        "X_train, X_test = X[:splitlimit], X[splitlimit:]\n",
        "y_train, y_test = y[:splitlimit], y[splitlimit:]\n",
        "print(X_train.shape)\n",
        "print(X_test.shape)\n",
        "print(y_train.shape)\n",
        "print(y_test.shape)\n",
        "print(y_train)"
      ]
    },
    {
      "cell_type": "markdown",
      "id": "ShGMpnm0zj-B",
      "metadata": {
        "id": "ShGMpnm0zj-B"
      },
      "source": [
        "#LSTM Model Training"
      ]
    },
    {
      "cell_type": "code",
      "execution_count": 93,
      "id": "9867161a",
      "metadata": {
        "colab": {
          "base_uri": "https://localhost:8080/"
        },
        "id": "9867161a",
        "outputId": "55ad4538-12a4-4dd9-9990-7a20b8fff9f1"
      },
      "outputs": [
        {
          "name": "stdout",
          "output_type": "stream",
          "text": [
            "Epoch 1/30\n",
            "\u001b[1m71/71\u001b[0m \u001b[32m━━━━━━━━━━━━━━━━━━━━\u001b[0m\u001b[37m\u001b[0m \u001b[1m14s\u001b[0m 162ms/step - loss: 0.0042 - val_loss: 6.6489e-04\n",
            "Epoch 2/30\n",
            "\u001b[1m71/71\u001b[0m \u001b[32m━━━━━━━━━━━━━━━━━━━━\u001b[0m\u001b[37m\u001b[0m \u001b[1m15s\u001b[0m 79ms/step - loss: 7.0845e-05 - val_loss: 2.8178e-04\n",
            "Epoch 3/30\n",
            "\u001b[1m71/71\u001b[0m \u001b[32m━━━━━━━━━━━━━━━━━━━━\u001b[0m\u001b[37m\u001b[0m \u001b[1m10s\u001b[0m 82ms/step - loss: 5.5872e-05 - val_loss: 2.0548e-04\n",
            "Epoch 4/30\n",
            "\u001b[1m71/71\u001b[0m \u001b[32m━━━━━━━━━━━━━━━━━━━━\u001b[0m\u001b[37m\u001b[0m \u001b[1m4s\u001b[0m 63ms/step - loss: 4.9740e-05 - val_loss: 1.6330e-04\n",
            "Epoch 5/30\n",
            "\u001b[1m71/71\u001b[0m \u001b[32m━━━━━━━━━━━━━━━━━━━━\u001b[0m\u001b[37m\u001b[0m \u001b[1m5s\u001b[0m 66ms/step - loss: 5.9148e-05 - val_loss: 2.6597e-04\n",
            "Epoch 6/30\n",
            "\u001b[1m71/71\u001b[0m \u001b[32m━━━━━━━━━━━━━━━━━━━━\u001b[0m\u001b[37m\u001b[0m \u001b[1m6s\u001b[0m 75ms/step - loss: 4.4269e-05 - val_loss: 2.6202e-04\n",
            "Epoch 7/30\n",
            "\u001b[1m71/71\u001b[0m \u001b[32m━━━━━━━━━━━━━━━━━━━━\u001b[0m\u001b[37m\u001b[0m \u001b[1m5s\u001b[0m 65ms/step - loss: 5.0924e-05 - val_loss: 1.5805e-04\n",
            "Epoch 8/30\n",
            "\u001b[1m71/71\u001b[0m \u001b[32m━━━━━━━━━━━━━━━━━━━━\u001b[0m\u001b[37m\u001b[0m \u001b[1m6s\u001b[0m 85ms/step - loss: 5.4395e-05 - val_loss: 4.0867e-04\n",
            "Epoch 9/30\n",
            "\u001b[1m71/71\u001b[0m \u001b[32m━━━━━━━━━━━━━━━━━━━━\u001b[0m\u001b[37m\u001b[0m \u001b[1m5s\u001b[0m 65ms/step - loss: 4.6927e-05 - val_loss: 2.7456e-04\n",
            "Epoch 10/30\n",
            "\u001b[1m71/71\u001b[0m \u001b[32m━━━━━━━━━━━━━━━━━━━━\u001b[0m\u001b[37m\u001b[0m \u001b[1m5s\u001b[0m 72ms/step - loss: 4.2243e-05 - val_loss: 3.6333e-04\n",
            "Epoch 11/30\n",
            "\u001b[1m71/71\u001b[0m \u001b[32m━━━━━━━━━━━━━━━━━━━━\u001b[0m\u001b[37m\u001b[0m \u001b[1m5s\u001b[0m 76ms/step - loss: 4.6614e-05 - val_loss: 1.4810e-04\n",
            "Epoch 12/30\n",
            "\u001b[1m71/71\u001b[0m \u001b[32m━━━━━━━━━━━━━━━━━━━━\u001b[0m\u001b[37m\u001b[0m \u001b[1m11s\u001b[0m 85ms/step - loss: 5.1476e-05 - val_loss: 2.1228e-04\n",
            "Epoch 13/30\n",
            "\u001b[1m71/71\u001b[0m \u001b[32m━━━━━━━━━━━━━━━━━━━━\u001b[0m\u001b[37m\u001b[0m \u001b[1m5s\u001b[0m 66ms/step - loss: 3.5123e-05 - val_loss: 2.2231e-04\n",
            "Epoch 14/30\n",
            "\u001b[1m71/71\u001b[0m \u001b[32m━━━━━━━━━━━━━━━━━━━━\u001b[0m\u001b[37m\u001b[0m \u001b[1m7s\u001b[0m 95ms/step - loss: 6.2264e-05 - val_loss: 3.1740e-04\n",
            "Epoch 15/30\n",
            "\u001b[1m71/71\u001b[0m \u001b[32m━━━━━━━━━━━━━━━━━━━━\u001b[0m\u001b[37m\u001b[0m \u001b[1m8s\u001b[0m 66ms/step - loss: 4.2952e-05 - val_loss: 1.9893e-04\n",
            "Epoch 16/30\n",
            "\u001b[1m71/71\u001b[0m \u001b[32m━━━━━━━━━━━━━━━━━━━━\u001b[0m\u001b[37m\u001b[0m \u001b[1m6s\u001b[0m 83ms/step - loss: 4.0467e-05 - val_loss: 2.3008e-04\n",
            "Epoch 17/30\n",
            "\u001b[1m71/71\u001b[0m \u001b[32m━━━━━━━━━━━━━━━━━━━━\u001b[0m\u001b[37m\u001b[0m \u001b[1m5s\u001b[0m 65ms/step - loss: 4.9468e-05 - val_loss: 2.3929e-04\n",
            "Epoch 18/30\n",
            "\u001b[1m71/71\u001b[0m \u001b[32m━━━━━━━━━━━━━━━━━━━━\u001b[0m\u001b[37m\u001b[0m \u001b[1m6s\u001b[0m 80ms/step - loss: 4.0391e-05 - val_loss: 1.8825e-04\n",
            "Epoch 19/30\n",
            "\u001b[1m71/71\u001b[0m \u001b[32m━━━━━━━━━━━━━━━━━━━━\u001b[0m\u001b[37m\u001b[0m \u001b[1m5s\u001b[0m 66ms/step - loss: 3.3950e-05 - val_loss: 1.4287e-04\n",
            "Epoch 20/30\n",
            "\u001b[1m71/71\u001b[0m \u001b[32m━━━━━━━━━━━━━━━━━━━━\u001b[0m\u001b[37m\u001b[0m \u001b[1m5s\u001b[0m 63ms/step - loss: 3.9186e-05 - val_loss: 2.3640e-04\n",
            "Epoch 21/30\n",
            "\u001b[1m71/71\u001b[0m \u001b[32m━━━━━━━━━━━━━━━━━━━━\u001b[0m\u001b[37m\u001b[0m \u001b[1m6s\u001b[0m 85ms/step - loss: 3.7463e-05 - val_loss: 4.4116e-04\n",
            "Epoch 22/30\n",
            "\u001b[1m71/71\u001b[0m \u001b[32m━━━━━━━━━━━━━━━━━━━━\u001b[0m\u001b[37m\u001b[0m \u001b[1m9s\u001b[0m 74ms/step - loss: 4.5884e-05 - val_loss: 2.2654e-04\n",
            "Epoch 23/30\n",
            "\u001b[1m71/71\u001b[0m \u001b[32m━━━━━━━━━━━━━━━━━━━━\u001b[0m\u001b[37m\u001b[0m \u001b[1m9s\u001b[0m 63ms/step - loss: 3.5067e-05 - val_loss: 1.5613e-04\n",
            "Epoch 24/30\n",
            "\u001b[1m71/71\u001b[0m \u001b[32m━━━━━━━━━━━━━━━━━━━━\u001b[0m\u001b[37m\u001b[0m \u001b[1m6s\u001b[0m 84ms/step - loss: 3.8070e-05 - val_loss: 1.7656e-04\n",
            "Epoch 25/30\n",
            "\u001b[1m71/71\u001b[0m \u001b[32m━━━━━━━━━━━━━━━━━━━━\u001b[0m\u001b[37m\u001b[0m \u001b[1m5s\u001b[0m 65ms/step - loss: 4.7007e-05 - val_loss: 1.4014e-04\n",
            "Epoch 26/30\n",
            "\u001b[1m71/71\u001b[0m \u001b[32m━━━━━━━━━━━━━━━━━━━━\u001b[0m\u001b[37m\u001b[0m \u001b[1m6s\u001b[0m 79ms/step - loss: 4.3226e-05 - val_loss: 1.5410e-04\n",
            "Epoch 27/30\n",
            "\u001b[1m71/71\u001b[0m \u001b[32m━━━━━━━━━━━━━━━━━━━━\u001b[0m\u001b[37m\u001b[0m \u001b[1m5s\u001b[0m 68ms/step - loss: 3.7944e-05 - val_loss: 1.3910e-04\n",
            "Epoch 28/30\n",
            "\u001b[1m71/71\u001b[0m \u001b[32m━━━━━━━━━━━━━━━━━━━━\u001b[0m\u001b[37m\u001b[0m \u001b[1m5s\u001b[0m 64ms/step - loss: 4.0025e-05 - val_loss: 1.9432e-04\n",
            "Epoch 29/30\n",
            "\u001b[1m71/71\u001b[0m \u001b[32m━━━━━━━━━━━━━━━━━━━━\u001b[0m\u001b[37m\u001b[0m \u001b[1m7s\u001b[0m 85ms/step - loss: 3.8039e-05 - val_loss: 1.5399e-04\n",
            "Epoch 30/30\n",
            "\u001b[1m71/71\u001b[0m \u001b[32m━━━━━━━━━━━━━━━━━━━━\u001b[0m\u001b[37m\u001b[0m \u001b[1m10s\u001b[0m 83ms/step - loss: 4.0131e-05 - val_loss: 1.7968e-04\n"
          ]
        },
        {
          "data": {
            "text/plain": [
              "<keras.src.callbacks.history.History at 0x7b9ddeda1190>"
            ]
          },
          "execution_count": 93,
          "metadata": {},
          "output_type": "execute_result"
        }
      ],
      "source": [
        "from keras.models import Sequential\n",
        "from keras.layers import LSTM\n",
        "from keras.layers import Dropout\n",
        "from keras.layers import Dense\n",
        "from keras.layers import TimeDistributed\n",
        "\n",
        "import tensorflow as tf\n",
        "import keras\n",
        "from keras import optimizers\n",
        "from keras.callbacks import History\n",
        "from keras.models import Model\n",
        "from keras.layers import Dense, Dropout, LSTM, Input, Activation, concatenate\n",
        "import numpy as np\n",
        "#tf.random.set_seed(20)\n",
        "np.random.seed(10)\n",
        "\n",
        "lstm_input = Input(shape=(backcandles, 8), name='lstm_input') #creates an input layer for the network\n",
        "inputs = LSTM(150, name='first_layer')(lstm_input) #Adds LSTM layer with 150 units to the model.\n",
        "inputs = Dense(1, name='dense_layer')(inputs) #A Dense layer is a fully connected layer where each neuron is connected to every neuron in the previous layer.\n",
        "output = Activation('linear', name='output')(inputs)\n",
        "model = Model(inputs=lstm_input, outputs=output)\n",
        "\n",
        "#Creates an instance of the Adam Optimizer Algorithm\n",
        "adam = optimizers.Adam()\n",
        "model.compile(optimizer=adam, loss='mse')\n",
        "\n",
        "#Training the Model\n",
        "model.fit(x=X_train, y=y_train, batch_size=15, epochs=30, shuffle=True, validation_split = 0.1)"
      ]
    },
    {
      "cell_type": "markdown",
      "id": "bnJXbOQW1xMa",
      "metadata": {
        "id": "bnJXbOQW1xMa"
      },
      "source": [
        "#Prediction and Comparison"
      ]
    },
    {
      "cell_type": "code",
      "execution_count": 94,
      "id": "08324ede",
      "metadata": {
        "colab": {
          "base_uri": "https://localhost:8080/"
        },
        "id": "08324ede",
        "outputId": "afa0b5b8-1347-4c9c-b56f-4acac5267b33"
      },
      "outputs": [
        {
          "name": "stdout",
          "output_type": "stream",
          "text": [
            "\u001b[1m10/10\u001b[0m \u001b[32m━━━━━━━━━━━━━━━━━━━━\u001b[0m\u001b[37m\u001b[0m \u001b[1m1s\u001b[0m 50ms/step\n",
            "[0.3108407] [0.32911519]\n",
            "[0.31447178] [0.32895662]\n",
            "[0.3197631] [0.32728072]\n",
            "[0.32250902] [0.31038611]\n",
            "[0.32232985] [0.31224313]\n",
            "[0.30894598] [0.31348871]\n",
            "[0.303899] [0.31905234]\n",
            "[0.30310568] [0.31336797]\n",
            "[0.30624852] [0.29743953]\n",
            "[0.30344546] [0.2961864]\n"
          ]
        }
      ],
      "source": [
        "y_pred = model.predict(X_test)\n",
        "#y_pred=np.where(y_pred > 0.43, 1,0)\n",
        "for i in range(10):\n",
        "    print(y_pred[i], y_test[i])"
      ]
    },
    {
      "cell_type": "markdown",
      "id": "kiJCzKXm15SZ",
      "metadata": {
        "id": "kiJCzKXm15SZ"
      },
      "source": [
        "#Visualization"
      ]
    },
    {
      "cell_type": "code",
      "execution_count": 95,
      "id": "67f5e31a",
      "metadata": {
        "colab": {
          "base_uri": "https://localhost:8080/",
          "height": 510
        },
        "id": "67f5e31a",
        "outputId": "8984af92-e6fb-4dde-ba84-8f4d373b7e7e"
      },
      "outputs": [
        {
          "data": {
            "image/png": "[encoded data removed]",
            "text/plain": [
              "<Figure size 1600x800 with 1 Axes>"
            ]
          },
          "metadata": {},
          "output_type": "display_data"
        }
      ],
      "source": [
        "plt.figure(figsize=(16,8))\n",
        "plt.plot(y_test, color = 'black', label = 'Test')\n",
        "plt.plot(y_pred, color = 'green', label = 'pred')\n",
        "plt.title(\"70 Back Candle\")\n",
        "plt.legend()\n",
        "plt.show()"
      ]
    }
  ],
  "metadata": {
    "colab": {
      "provenance": []
    },
    "kernelspec": {
      "display_name": "Python 3 (ipykernel)",
      "language": "python",
      "name": "python3"
    },
    "language_info": {
      "codemirror_mode": {
        "name": "ipython",
        "version": 3
      },
      "file_extension": ".py",
      "mimetype": "text/x-python",
      "name": "python",
      "nbconvert_exporter": "python",
      "pygments_lexer": "ipython3",
      "version": "3.7.3"
    }
  },
  "nbformat": 4,
  "nbformat_minor": 5
}
